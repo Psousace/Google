{
  "nbformat": 4,
  "nbformat_minor": 0,
  "metadata": {
    "colab": {
      "provenance": [],
      "authorship_tag": "ABX9TyPOyV7rVIAi3tsOWkfEyo0h",
      "include_colab_link": true
    },
    "kernelspec": {
      "name": "python3",
      "display_name": "Python 3"
    },
    "language_info": {
      "name": "python"
    }
  },
  "cells": [
    {
      "cell_type": "markdown",
      "metadata": {
        "id": "view-in-github",
        "colab_type": "text"
      },
      "source": [
        "<a href=\"https://colab.research.google.com/github/Psousace/Google/blob/main/GOOGLE_COLAB_e_GOOGLE_PLANILHAS_INTEGRADOS.ipynb\" target=\"_parent\"><img src=\"https://colab.research.google.com/assets/colab-badge.svg\" alt=\"Open In Colab\"/></a>"
      ]
    },
    {
      "cell_type": "markdown",
      "source": [
        "# Instalando gspread"
      ],
      "metadata": {
        "id": "LJihhnExkVwv"
      }
    },
    {
      "cell_type": "code",
      "execution_count": null,
      "metadata": {
        "colab": {
          "base_uri": "https://localhost:8080/"
        },
        "id": "tWNaP00tkJad",
        "outputId": "63fd88d7-3ece-43aa-e7f7-0ba2b518064b"
      },
      "outputs": [
        {
          "output_type": "stream",
          "name": "stdout",
          "text": [
            "Requirement already satisfied: gspread in /usr/local/lib/python3.10/dist-packages (3.4.2)\n",
            "Requirement already satisfied: requests>=2.2.1 in /usr/local/lib/python3.10/dist-packages (from gspread) (2.31.0)\n",
            "Requirement already satisfied: google-auth in /usr/local/lib/python3.10/dist-packages (from gspread) (2.17.3)\n",
            "Requirement already satisfied: charset-normalizer<4,>=2 in /usr/local/lib/python3.10/dist-packages (from requests>=2.2.1->gspread) (3.2.0)\n",
            "Requirement already satisfied: idna<4,>=2.5 in /usr/local/lib/python3.10/dist-packages (from requests>=2.2.1->gspread) (3.4)\n",
            "Requirement already satisfied: urllib3<3,>=1.21.1 in /usr/local/lib/python3.10/dist-packages (from requests>=2.2.1->gspread) (2.0.4)\n",
            "Requirement already satisfied: certifi>=2017.4.17 in /usr/local/lib/python3.10/dist-packages (from requests>=2.2.1->gspread) (2023.7.22)\n",
            "Requirement already satisfied: cachetools<6.0,>=2.0.0 in /usr/local/lib/python3.10/dist-packages (from google-auth->gspread) (5.3.1)\n",
            "Requirement already satisfied: pyasn1-modules>=0.2.1 in /usr/local/lib/python3.10/dist-packages (from google-auth->gspread) (0.3.0)\n",
            "Requirement already satisfied: six>=1.9.0 in /usr/local/lib/python3.10/dist-packages (from google-auth->gspread) (1.16.0)\n",
            "Requirement already satisfied: rsa<5,>=3.1.4 in /usr/local/lib/python3.10/dist-packages (from google-auth->gspread) (4.9)\n",
            "Requirement already satisfied: pyasn1<0.6.0,>=0.4.6 in /usr/local/lib/python3.10/dist-packages (from pyasn1-modules>=0.2.1->google-auth->gspread) (0.5.0)\n"
          ]
        }
      ],
      "source": [
        "!pip install gspread"
      ]
    },
    {
      "cell_type": "markdown",
      "source": [
        "##Importando Bibliotecas"
      ],
      "metadata": {
        "id": "RygVDKokkbkv"
      }
    },
    {
      "cell_type": "code",
      "source": [
        "# Código para conectar no Google Sheets pelo Google Colabt. (no Jupyter código diferente)\n",
        "from google.colab import auth\n",
        "auth.authenticate_user()\n",
        "\n",
        "import gspread\n",
        "from google.auth import default\n",
        "creds, _ = default()\n",
        "\n",
        "gc = gspread.authorize(creds)\n"
      ],
      "metadata": {
        "id": "_D9s-_LTkhZj"
      },
      "execution_count": null,
      "outputs": []
    },
    {
      "cell_type": "markdown",
      "source": [
        "## Realizando Auteticação"
      ],
      "metadata": {
        "id": "mP0E_GLkk2zv"
      }
    },
    {
      "cell_type": "code",
      "source": [
        "auth.authenticate_user()\n",
        "gc = gspread.authorize(creds)"
      ],
      "metadata": {
        "id": "dwGFfIm0lDJ4"
      },
      "execution_count": null,
      "outputs": []
    },
    {
      "cell_type": "code",
      "source": [
        "gc.create('Planilha10GD')"
      ],
      "metadata": {
        "colab": {
          "base_uri": "https://localhost:8080/"
        },
        "id": "O15ObOramuRb",
        "outputId": "6bf7a88f-0d75-4b1b-d4f7-27a9c282fa30"
      },
      "execution_count": null,
      "outputs": [
        {
          "output_type": "execute_result",
          "data": {
            "text/plain": [
              "<Spreadsheet 'Planilha10GD' id:14SSBKK9JSx8D-zZIG1FUjC8sAZACGhXFQ5-sE62u9Io>"
            ]
          },
          "metadata": {},
          "execution_count": 8
        }
      ]
    },
    {
      "cell_type": "markdown",
      "source": [
        "## Abrindo uma planilha"
      ],
      "metadata": {
        "id": "v3DGH86mnNYr"
      }
    },
    {
      "cell_type": "code",
      "source": [
        "planilha = gc.open('Planilha10GD')\n",
        "planilha"
      ],
      "metadata": {
        "colab": {
          "base_uri": "https://localhost:8080/"
        },
        "id": "eCdHP3njnSVq",
        "outputId": "eabb7a17-ffca-44e4-c223-48fe96a6289b"
      },
      "execution_count": null,
      "outputs": [
        {
          "output_type": "execute_result",
          "data": {
            "text/plain": [
              "<Spreadsheet 'Planilha10GD' id:14SSBKK9JSx8D-zZIG1FUjC8sAZACGhXFQ5-sE62u9Io>"
            ]
          },
          "metadata": {},
          "execution_count": 10
        }
      ]
    },
    {
      "cell_type": "code",
      "source": [
        "planilha.add_worksheet('nova_pag', 10, 5)"
      ],
      "metadata": {
        "colab": {
          "base_uri": "https://localhost:8080/"
        },
        "id": "PdtZmaLrnstU",
        "outputId": "a8367e4e-da93-4799-cb0a-d4815d242e25"
      },
      "execution_count": null,
      "outputs": [
        {
          "output_type": "execute_result",
          "data": {
            "text/plain": [
              "<Worksheet 'nova_pag' id:141831556>"
            ]
          },
          "metadata": {},
          "execution_count": 11
        }
      ]
    },
    {
      "cell_type": "markdown",
      "source": [
        "# selecionando uma pagina"
      ],
      "metadata": {
        "id": "jK-m_xL8oPEu"
      }
    },
    {
      "cell_type": "code",
      "source": [
        "pagina1 = planilha.get_worksheet(0)"
      ],
      "metadata": {
        "id": "4yIpFIzboTTJ"
      },
      "execution_count": null,
      "outputs": []
    },
    {
      "cell_type": "markdown",
      "source": [
        "# Apagando uma Pagina"
      ],
      "metadata": {
        "id": "m51C_tRPotaD"
      }
    },
    {
      "cell_type": "code",
      "source": [
        "planilha.del_worksheet(pagina1)"
      ],
      "metadata": {
        "colab": {
          "base_uri": "https://localhost:8080/"
        },
        "id": "plkByjXeoxZq",
        "outputId": "be559f5a-84b4-48e3-f0c5-b7ac3f2f8f9c"
      },
      "execution_count": null,
      "outputs": [
        {
          "output_type": "execute_result",
          "data": {
            "text/plain": [
              "{'spreadsheetId': '14SSBKK9JSx8D-zZIG1FUjC8sAZACGhXFQ5-sE62u9Io',\n",
              " 'replies': [{}]}"
            ]
          },
          "metadata": {},
          "execution_count": 13
        }
      ]
    },
    {
      "cell_type": "markdown",
      "source": [
        "# Alterando Valores das celulas"
      ],
      "metadata": {
        "id": "W91WBZk4pAW7"
      }
    },
    {
      "cell_type": "markdown",
      "source": [
        ">## 1º Passo: selecionar pagina"
      ],
      "metadata": {
        "id": "ImZn6KxopFgN"
      }
    },
    {
      "cell_type": "code",
      "source": [
        "nova_pagina = planilha.get_worksheet(0)"
      ],
      "metadata": {
        "id": "JY81SRTbpQj0"
      },
      "execution_count": null,
      "outputs": []
    },
    {
      "cell_type": "code",
      "source": [
        "nova_pagina.update_acell('a1', 120)"
      ],
      "metadata": {
        "colab": {
          "base_uri": "https://localhost:8080/"
        },
        "id": "X4T6zMgnp7We",
        "outputId": "05a070d4-00d3-4f5c-f11c-405ab66071c9"
      },
      "execution_count": null,
      "outputs": [
        {
          "output_type": "execute_result",
          "data": {
            "text/plain": [
              "{'spreadsheetId': '14SSBKK9JSx8D-zZIG1FUjC8sAZACGhXFQ5-sE62u9Io',\n",
              " 'updatedRange': 'nova_pag!A1',\n",
              " 'updatedRows': 1,\n",
              " 'updatedColumns': 1,\n",
              " 'updatedCells': 1}"
            ]
          },
          "metadata": {},
          "execution_count": 15
        }
      ]
    },
    {
      "cell_type": "code",
      "source": [
        "# outro método\n",
        "nova_pagina.update_cell(2,2, 'qualquer texto')"
      ],
      "metadata": {
        "colab": {
          "base_uri": "https://localhost:8080/"
        },
        "id": "yv0uC_5WqT5F",
        "outputId": "ac8ac0f2-4697-45c8-c917-bd7cc8ed3a3c"
      },
      "execution_count": null,
      "outputs": [
        {
          "output_type": "execute_result",
          "data": {
            "text/plain": [
              "{'spreadsheetId': '14SSBKK9JSx8D-zZIG1FUjC8sAZACGhXFQ5-sE62u9Io',\n",
              " 'updatedRange': 'nova_pag!B2',\n",
              " 'updatedRows': 1,\n",
              " 'updatedColumns': 1,\n",
              " 'updatedCells': 1}"
            ]
          },
          "metadata": {},
          "execution_count": 16
        }
      ]
    },
    {
      "cell_type": "code",
      "source": [
        "lista_cel = nova_pagina.range('a1:b2')\n",
        "lista_cel\n"
      ],
      "metadata": {
        "colab": {
          "base_uri": "https://localhost:8080/"
        },
        "id": "tsN2GENDqwzp",
        "outputId": "09d36a49-5e6c-4e74-8dcc-141ce912f092"
      },
      "execution_count": null,
      "outputs": [
        {
          "output_type": "execute_result",
          "data": {
            "text/plain": [
              "[<Cell R1C1 '120'>,\n",
              " <Cell R1C2 ''>,\n",
              " <Cell R2C1 ''>,\n",
              " <Cell R2C2 'qualquer texto'>]"
            ]
          },
          "metadata": {},
          "execution_count": 17
        }
      ]
    },
    {
      "cell_type": "code",
      "source": [
        "valores = ['a', 'b' , 'c', 'd']\n",
        "for i, valor in enumerate(valores):\n",
        "  lista_cel[1].value = valor\n",
        "  lista_cel"
      ],
      "metadata": {
        "id": "iMgp2iMErESF"
      },
      "execution_count": null,
      "outputs": []
    },
    {
      "cell_type": "code",
      "source": [
        "nova_pagina.update_cells(lista_cel)"
      ],
      "metadata": {
        "colab": {
          "base_uri": "https://localhost:8080/"
        },
        "id": "3UzNiKessAJW",
        "outputId": "b511cd1c-1318-42e8-9ca3-1d74144ca74a"
      },
      "execution_count": null,
      "outputs": [
        {
          "output_type": "execute_result",
          "data": {
            "text/plain": [
              "{'spreadsheetId': '14SSBKK9JSx8D-zZIG1FUjC8sAZACGhXFQ5-sE62u9Io',\n",
              " 'updatedRange': 'nova_pag!A1:B2',\n",
              " 'updatedRows': 2,\n",
              " 'updatedColumns': 2,\n",
              " 'updatedCells': 4}"
            ]
          },
          "metadata": {},
          "execution_count": 22
        }
      ]
    }
  ]
}